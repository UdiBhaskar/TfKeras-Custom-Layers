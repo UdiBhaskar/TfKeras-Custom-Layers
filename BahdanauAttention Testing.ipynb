{
 "cells": [
  {
   "cell_type": "code",
   "execution_count": 1,
   "metadata": {},
   "outputs": [],
   "source": [
    "import numpy as np\n",
    "import pandas as pd\n",
    "import matplotlib.pyplot as plt\n",
    "%matplotlib inline\n",
    "from tensorflow.keras.layers import Input, Dense, Conv2D, BatchNormalization, Activation, Dropout, GRU, Embedding\n",
    "from tensorflow.keras.models import Model\n",
    "from tensorflow.keras import activations\n",
    "from tensorflow.keras.layers import Layer\n",
    "from tensorflow.keras import layers\n",
    "import tensorflow as tf"
   ]
  },
  {
   "cell_type": "code",
   "execution_count": 2,
   "metadata": {},
   "outputs": [],
   "source": [
    "from Seq2Seq import clayers\n",
    "from Seq2Seq import cactivations"
   ]
  },
  {
   "cell_type": "code",
   "execution_count": 3,
   "metadata": {},
   "outputs": [],
   "source": [
    "from tensorflow.keras.layers import GRU, concatenate, Lambda"
   ]
  },
  {
   "cell_type": "code",
   "execution_count": 4,
   "metadata": {},
   "outputs": [
    {
     "data": {
      "text/plain": [
       "'1.14.0'"
      ]
     },
     "execution_count": 4,
     "metadata": {},
     "output_type": "execute_result"
    }
   ],
   "source": [
    "tf.__version__"
   ]
  },
  {
   "cell_type": "code",
   "execution_count": 5,
   "metadata": {},
   "outputs": [],
   "source": [
    "ENCODER_SEQ_LEN = 30\n",
    "DECODER_SEQ_LEN = 20\n",
    "VOCAB_SIZE = 500\n",
    "units = 16"
   ]
  },
  {
   "cell_type": "code",
   "execution_count": 6,
   "metadata": {},
   "outputs": [],
   "source": [
    "x = np.random.randint(0, 499, size=(2000, ENCODER_SEQ_LEN))\n",
    "y = np.random.randint(0, 499, size=(2000, DECODER_SEQ_LEN))"
   ]
  },
  {
   "cell_type": "code",
   "execution_count": 7,
   "metadata": {},
   "outputs": [],
   "source": [
    "tf.keras.backend.clear_session()\n",
    "def encoder():\n",
    "    input_encoder = Input(shape=(ENCODER_SEQ_LEN,),name='encoder_input')\n",
    "\n",
    "    x_embedded = Embedding(input_dim=VOCAB_SIZE, output_dim=50, input_length=ENCODER_SEQ_LEN,\n",
    "                           mask_zero=False, name=\"embedding_layer_encoder\")(input_encoder)\n",
    "    \n",
    "    gru_output, gru_state= GRU(units, return_state=True, return_sequences=True, name=\"Encoder_GRU\")(x_embedded)\n",
    "    return Model(inputs=input_encoder, outputs=[gru_output, gru_state])"
   ]
  },
  {
   "cell_type": "code",
   "execution_count": 8,
   "metadata": {},
   "outputs": [],
   "source": [
    "def OneStepDecoder():\n",
    "    \n",
    "    #inputs\n",
    "    input_decoder = Input(shape=(1,),name=\"dec_input\")\n",
    "    \n",
    "    input_state = Input(shape=(units,),name=\"Dec_states\")\n",
    "    \n",
    "    encoder_outputs = Input(shape=(ENCODER_SEQ_LEN, units,),name=\"EncoderStates\")\n",
    "        \n",
    "    #mask_encoder = Input(shape=(ENCODER_SEQ_LEN,), name='mask_encoder')\n",
    "    \n",
    "    # Embedding layers\n",
    "    dec_embdd = Embedding(input_dim=VOCAB_SIZE, output_dim=50,\n",
    "                      input_length=1,mask_zero=False, name=\"Decoder_Embedding_layer\")(input_decoder)\n",
    "    \n",
    "    \n",
    "    z_attention = dict()\n",
    "    z_attention['enocderHs'] = encoder_outputs\n",
    "    z_attention['decoderHt'] = input_state\n",
    "    \n",
    "    context_vector = clayers.BahdanauAttention(units=20, name='Attention')(z_attention)\n",
    "    \n",
    "    concat = concatenate([tf.cast(tf.expand_dims(context_vector, 1), dec_embdd.dtype), dec_embdd],name=\"concat\")\n",
    "    \n",
    "    decoder_output, Decoder_state = GRU(units=units,return_state=True,name=\"DecGRU\")(concat, initial_state=input_state)\n",
    "    \n",
    "    output = Dense(units=VOCAB_SIZE,activation=\"softmax\",name=\"DenseOut\")(decoder_output)\n",
    "    \n",
    "    return Model(inputs=[input_decoder, input_state, encoder_outputs],outputs=[output, Decoder_state],name=\"OneStepDecoder\")"
   ]
  },
  {
   "cell_type": "code",
   "execution_count": 9,
   "metadata": {},
   "outputs": [],
   "source": [
    "def encoder_decoder():\n",
    "    \n",
    "    encoder_input = Input(shape=(ENCODER_SEQ_LEN,), name='encoder_input_final')\n",
    "    decoder_input = Input(shape=(DECODER_SEQ_LEN,), name=\"Decoder_inout_final\")\n",
    "    \n",
    "    enc = encoder()\n",
    "\n",
    "    outputs_encoder, encoder_state = enc(encoder_input)\n",
    "    \n",
    "    decoder_one_att = OneStepDecoder()\n",
    "    \n",
    "    all_outputs= []\n",
    "     \n",
    "    \n",
    "    for timestep in range(DECODER_SEQ_LEN):\n",
    "        \n",
    "        inputs = Lambda(lambda x: x[:,timestep:timestep+1])(decoder_input)\n",
    "        \n",
    "        output, encoder_state = decoder_one_att([inputs, encoder_state, outputs_encoder])\n",
    "        \n",
    "        output = Lambda(lambda x:  tf.expand_dims(x, 1))(output)\n",
    "        \n",
    "        all_outputs.append(output)\n",
    "        \n",
    "        \n",
    "    decoder_outputs = Lambda(lambda x: tf.keras.backend.concatenate(all_outputs,1))(all_outputs)\n",
    "    \n",
    "    return Model(inputs=[encoder_input, decoder_input], outputs=decoder_outputs)"
   ]
  },
  {
   "cell_type": "code",
   "execution_count": 10,
   "metadata": {},
   "outputs": [
    {
     "name": "stderr",
     "output_type": "stream",
     "text": [
      "WARNING: Logging before flag parsing goes to stderr.\n",
      "W1023 15:23:10.052164 11088 deprecation.py:506] From D:\\Softwares\\Anaconda3\\lib\\site-packages\\tensorflow\\python\\keras\\initializers.py:119: calling RandomUniform.__init__ (from tensorflow.python.ops.init_ops) with dtype is deprecated and will be removed in a future version.\n",
      "Instructions for updating:\n",
      "Call initializer instance with the dtype argument instead of passing it to the constructor\n",
      "W1023 15:23:10.112370 11088 deprecation.py:506] From D:\\Softwares\\Anaconda3\\lib\\site-packages\\tensorflow\\python\\ops\\init_ops.py:1251: calling VarianceScaling.__init__ (from tensorflow.python.ops.init_ops) with dtype is deprecated and will be removed in a future version.\n",
      "Instructions for updating:\n",
      "Call initializer instance with the dtype argument instead of passing it to the constructor\n"
     ]
    }
   ],
   "source": [
    "EC = encoder_decoder()"
   ]
  },
  {
   "cell_type": "code",
   "execution_count": 11,
   "metadata": {},
   "outputs": [
    {
     "name": "stdout",
     "output_type": "stream",
     "text": [
      "Model: \"model_1\"\n",
      "__________________________________________________________________________________________________\n",
      "Layer (type)                    Output Shape         Param #     Connected to                     \n",
      "==================================================================================================\n",
      "Decoder_inout_final (InputLayer [(None, 20)]         0                                            \n",
      "__________________________________________________________________________________________________\n",
      "encoder_input_final (InputLayer [(None, 30)]         0                                            \n",
      "__________________________________________________________________________________________________\n",
      "lambda (Lambda)                 (None, 1)            0           Decoder_inout_final[0][0]        \n",
      "__________________________________________________________________________________________________\n",
      "model (Model)                   [(None, 30, 16), (No 28216       encoder_input_final[0][0]        \n",
      "__________________________________________________________________________________________________\n",
      "OneStepDecoder (Model)          [(None, 500), (None, 38164       lambda[0][0]                     \n",
      "                                                                 model[1][1]                      \n",
      "                                                                 model[1][0]                      \n",
      "                                                                 lambda_2[0][0]                   \n",
      "                                                                 OneStepDecoder[1][1]             \n",
      "                                                                 model[1][0]                      \n",
      "                                                                 lambda_4[0][0]                   \n",
      "                                                                 OneStepDecoder[2][1]             \n",
      "                                                                 model[1][0]                      \n",
      "                                                                 lambda_6[0][0]                   \n",
      "                                                                 OneStepDecoder[3][1]             \n",
      "                                                                 model[1][0]                      \n",
      "                                                                 lambda_8[0][0]                   \n",
      "                                                                 OneStepDecoder[4][1]             \n",
      "                                                                 model[1][0]                      \n",
      "                                                                 lambda_10[0][0]                  \n",
      "                                                                 OneStepDecoder[5][1]             \n",
      "                                                                 model[1][0]                      \n",
      "                                                                 lambda_12[0][0]                  \n",
      "                                                                 OneStepDecoder[6][1]             \n",
      "                                                                 model[1][0]                      \n",
      "                                                                 lambda_14[0][0]                  \n",
      "                                                                 OneStepDecoder[7][1]             \n",
      "                                                                 model[1][0]                      \n",
      "                                                                 lambda_16[0][0]                  \n",
      "                                                                 OneStepDecoder[8][1]             \n",
      "                                                                 model[1][0]                      \n",
      "                                                                 lambda_18[0][0]                  \n",
      "                                                                 OneStepDecoder[9][1]             \n",
      "                                                                 model[1][0]                      \n",
      "                                                                 lambda_20[0][0]                  \n",
      "                                                                 OneStepDecoder[10][1]            \n",
      "                                                                 model[1][0]                      \n",
      "                                                                 lambda_22[0][0]                  \n",
      "                                                                 OneStepDecoder[11][1]            \n",
      "                                                                 model[1][0]                      \n",
      "                                                                 lambda_24[0][0]                  \n",
      "                                                                 OneStepDecoder[12][1]            \n",
      "                                                                 model[1][0]                      \n",
      "                                                                 lambda_26[0][0]                  \n",
      "                                                                 OneStepDecoder[13][1]            \n",
      "                                                                 model[1][0]                      \n",
      "                                                                 lambda_28[0][0]                  \n",
      "                                                                 OneStepDecoder[14][1]            \n",
      "                                                                 model[1][0]                      \n",
      "                                                                 lambda_30[0][0]                  \n",
      "                                                                 OneStepDecoder[15][1]            \n",
      "                                                                 model[1][0]                      \n",
      "                                                                 lambda_32[0][0]                  \n",
      "                                                                 OneStepDecoder[16][1]            \n",
      "                                                                 model[1][0]                      \n",
      "                                                                 lambda_34[0][0]                  \n",
      "                                                                 OneStepDecoder[17][1]            \n",
      "                                                                 model[1][0]                      \n",
      "                                                                 lambda_36[0][0]                  \n",
      "                                                                 OneStepDecoder[18][1]            \n",
      "                                                                 model[1][0]                      \n",
      "                                                                 lambda_38[0][0]                  \n",
      "                                                                 OneStepDecoder[19][1]            \n",
      "                                                                 model[1][0]                      \n",
      "__________________________________________________________________________________________________\n",
      "lambda_2 (Lambda)               (None, 1)            0           Decoder_inout_final[0][0]        \n",
      "__________________________________________________________________________________________________\n",
      "lambda_4 (Lambda)               (None, 1)            0           Decoder_inout_final[0][0]        \n",
      "__________________________________________________________________________________________________\n",
      "lambda_6 (Lambda)               (None, 1)            0           Decoder_inout_final[0][0]        \n",
      "__________________________________________________________________________________________________\n",
      "lambda_8 (Lambda)               (None, 1)            0           Decoder_inout_final[0][0]        \n",
      "__________________________________________________________________________________________________\n",
      "lambda_10 (Lambda)              (None, 1)            0           Decoder_inout_final[0][0]        \n",
      "__________________________________________________________________________________________________\n",
      "lambda_12 (Lambda)              (None, 1)            0           Decoder_inout_final[0][0]        \n",
      "__________________________________________________________________________________________________\n",
      "lambda_14 (Lambda)              (None, 1)            0           Decoder_inout_final[0][0]        \n",
      "__________________________________________________________________________________________________\n",
      "lambda_16 (Lambda)              (None, 1)            0           Decoder_inout_final[0][0]        \n",
      "__________________________________________________________________________________________________\n",
      "lambda_18 (Lambda)              (None, 1)            0           Decoder_inout_final[0][0]        \n",
      "__________________________________________________________________________________________________\n",
      "lambda_20 (Lambda)              (None, 1)            0           Decoder_inout_final[0][0]        \n",
      "__________________________________________________________________________________________________\n",
      "lambda_22 (Lambda)              (None, 1)            0           Decoder_inout_final[0][0]        \n",
      "__________________________________________________________________________________________________\n",
      "lambda_24 (Lambda)              (None, 1)            0           Decoder_inout_final[0][0]        \n",
      "__________________________________________________________________________________________________\n",
      "lambda_26 (Lambda)              (None, 1)            0           Decoder_inout_final[0][0]        \n",
      "__________________________________________________________________________________________________\n",
      "lambda_28 (Lambda)              (None, 1)            0           Decoder_inout_final[0][0]        \n",
      "__________________________________________________________________________________________________\n",
      "lambda_30 (Lambda)              (None, 1)            0           Decoder_inout_final[0][0]        \n",
      "__________________________________________________________________________________________________\n",
      "lambda_32 (Lambda)              (None, 1)            0           Decoder_inout_final[0][0]        \n",
      "__________________________________________________________________________________________________\n",
      "lambda_34 (Lambda)              (None, 1)            0           Decoder_inout_final[0][0]        \n",
      "__________________________________________________________________________________________________\n",
      "lambda_36 (Lambda)              (None, 1)            0           Decoder_inout_final[0][0]        \n",
      "__________________________________________________________________________________________________\n",
      "lambda_38 (Lambda)              (None, 1)            0           Decoder_inout_final[0][0]        \n",
      "__________________________________________________________________________________________________\n",
      "lambda_1 (Lambda)               (None, 1, 500)       0           OneStepDecoder[1][0]             \n",
      "__________________________________________________________________________________________________\n",
      "lambda_3 (Lambda)               (None, 1, 500)       0           OneStepDecoder[2][0]             \n",
      "__________________________________________________________________________________________________\n",
      "lambda_5 (Lambda)               (None, 1, 500)       0           OneStepDecoder[3][0]             \n",
      "__________________________________________________________________________________________________\n",
      "lambda_7 (Lambda)               (None, 1, 500)       0           OneStepDecoder[4][0]             \n",
      "__________________________________________________________________________________________________\n",
      "lambda_9 (Lambda)               (None, 1, 500)       0           OneStepDecoder[5][0]             \n",
      "__________________________________________________________________________________________________\n",
      "lambda_11 (Lambda)              (None, 1, 500)       0           OneStepDecoder[6][0]             \n",
      "__________________________________________________________________________________________________\n",
      "lambda_13 (Lambda)              (None, 1, 500)       0           OneStepDecoder[7][0]             \n",
      "__________________________________________________________________________________________________\n",
      "lambda_15 (Lambda)              (None, 1, 500)       0           OneStepDecoder[8][0]             \n",
      "__________________________________________________________________________________________________\n",
      "lambda_17 (Lambda)              (None, 1, 500)       0           OneStepDecoder[9][0]             \n",
      "__________________________________________________________________________________________________\n",
      "lambda_19 (Lambda)              (None, 1, 500)       0           OneStepDecoder[10][0]            \n",
      "__________________________________________________________________________________________________\n",
      "lambda_21 (Lambda)              (None, 1, 500)       0           OneStepDecoder[11][0]            \n",
      "__________________________________________________________________________________________________\n",
      "lambda_23 (Lambda)              (None, 1, 500)       0           OneStepDecoder[12][0]            \n",
      "__________________________________________________________________________________________________\n",
      "lambda_25 (Lambda)              (None, 1, 500)       0           OneStepDecoder[13][0]            \n",
      "__________________________________________________________________________________________________\n",
      "lambda_27 (Lambda)              (None, 1, 500)       0           OneStepDecoder[14][0]            \n",
      "__________________________________________________________________________________________________\n",
      "lambda_29 (Lambda)              (None, 1, 500)       0           OneStepDecoder[15][0]            \n",
      "__________________________________________________________________________________________________\n",
      "lambda_31 (Lambda)              (None, 1, 500)       0           OneStepDecoder[16][0]            \n",
      "__________________________________________________________________________________________________\n",
      "lambda_33 (Lambda)              (None, 1, 500)       0           OneStepDecoder[17][0]            \n",
      "__________________________________________________________________________________________________\n",
      "lambda_35 (Lambda)              (None, 1, 500)       0           OneStepDecoder[18][0]            \n",
      "__________________________________________________________________________________________________\n",
      "lambda_37 (Lambda)              (None, 1, 500)       0           OneStepDecoder[19][0]            \n",
      "__________________________________________________________________________________________________\n",
      "lambda_39 (Lambda)              (None, 1, 500)       0           OneStepDecoder[20][0]            \n",
      "__________________________________________________________________________________________________\n",
      "lambda_40 (Lambda)              (None, 20, 500)      0           lambda_1[0][0]                   \n",
      "                                                                 lambda_3[0][0]                   \n",
      "                                                                 lambda_5[0][0]                   \n",
      "                                                                 lambda_7[0][0]                   \n",
      "                                                                 lambda_9[0][0]                   \n",
      "                                                                 lambda_11[0][0]                  \n",
      "                                                                 lambda_13[0][0]                  \n",
      "                                                                 lambda_15[0][0]                  \n",
      "                                                                 lambda_17[0][0]                  \n",
      "                                                                 lambda_19[0][0]                  \n",
      "                                                                 lambda_21[0][0]                  \n",
      "                                                                 lambda_23[0][0]                  \n",
      "                                                                 lambda_25[0][0]                  \n",
      "                                                                 lambda_27[0][0]                  \n",
      "                                                                 lambda_29[0][0]                  \n",
      "                                                                 lambda_31[0][0]                  \n",
      "                                                                 lambda_33[0][0]                  \n",
      "                                                                 lambda_35[0][0]                  \n",
      "                                                                 lambda_37[0][0]                  \n",
      "                                                                 lambda_39[0][0]                  \n",
      "==================================================================================================\n",
      "Total params: 66,380\n",
      "Trainable params: 66,380\n",
      "Non-trainable params: 0\n",
      "__________________________________________________________________________________________________\n"
     ]
    }
   ],
   "source": [
    "EC.summary()"
   ]
  },
  {
   "cell_type": "code",
   "execution_count": 12,
   "metadata": {},
   "outputs": [
    {
     "data": {
      "text/plain": [
       "[<tf.Tensor 'encoder_input_final:0' shape=(?, 30) dtype=float32>,\n",
       " <tf.Tensor 'Decoder_inout_final:0' shape=(?, 20) dtype=float32>]"
      ]
     },
     "execution_count": 12,
     "metadata": {},
     "output_type": "execute_result"
    }
   ],
   "source": [
    "EC.inputs"
   ]
  },
  {
   "cell_type": "code",
   "execution_count": 13,
   "metadata": {},
   "outputs": [
    {
     "data": {
      "text/plain": [
       "[<tf.Tensor 'lambda_40/concat:0' shape=(?, 20, 500) dtype=float32>]"
      ]
     },
     "execution_count": 13,
     "metadata": {},
     "output_type": "execute_result"
    }
   ],
   "source": [
    "EC.outputs"
   ]
  },
  {
   "cell_type": "code",
   "execution_count": 14,
   "metadata": {},
   "outputs": [],
   "source": [
    "EC.compile(optimizer=tf.keras.optimizers.Adam(),loss=tf.keras.losses.sparse_categorical_crossentropy)"
   ]
  },
  {
   "cell_type": "code",
   "execution_count": 15,
   "metadata": {},
   "outputs": [
    {
     "name": "stderr",
     "output_type": "stream",
     "text": [
      "W1023 15:23:33.241009 11088 deprecation.py:323] From D:\\Softwares\\Anaconda3\\lib\\site-packages\\tensorflow\\python\\ops\\math_grad.py:1250: add_dispatch_support.<locals>.wrapper (from tensorflow.python.ops.array_ops) is deprecated and will be removed in a future version.\n",
      "Instructions for updating:\n",
      "Use tf.where in 2.0, which has the same broadcast rule as np.where\n"
     ]
    },
    {
     "name": "stdout",
     "output_type": "stream",
     "text": [
      "2000/2000 [==============================] - 21s 11ms/sample - loss: 6.1863\n"
     ]
    },
    {
     "data": {
      "text/plain": [
       "<tensorflow.python.keras.callbacks.History at 0x20e89992da0>"
      ]
     },
     "execution_count": 15,
     "metadata": {},
     "output_type": "execute_result"
    }
   ],
   "source": [
    "EC.fit(x=[x,y],y=y,epochs=1,verbose=1,batch_size=32)"
   ]
  },
  {
   "cell_type": "code",
   "execution_count": null,
   "metadata": {},
   "outputs": [],
   "source": []
  }
 ],
 "metadata": {
  "kernelspec": {
   "display_name": "Python 3",
   "language": "python",
   "name": "python3"
  },
  "language_info": {
   "codemirror_mode": {
    "name": "ipython",
    "version": 3
   },
   "file_extension": ".py",
   "mimetype": "text/x-python",
   "name": "python",
   "nbconvert_exporter": "python",
   "pygments_lexer": "ipython3",
   "version": "3.7.3"
  }
 },
 "nbformat": 4,
 "nbformat_minor": 2
}
